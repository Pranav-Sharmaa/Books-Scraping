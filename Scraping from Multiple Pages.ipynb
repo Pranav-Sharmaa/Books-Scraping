{
 "cells": [
  {
   "cell_type": "code",
   "execution_count": 1,
   "id": "b1e5503a",
   "metadata": {},
   "outputs": [],
   "source": [
    "import requests\n",
    "from bs4 import BeautifulSoup\n",
    "import pandas as pd\n",
    "from tqdm import tqdm\n"
   ]
  },
  {
   "cell_type": "code",
   "execution_count": 2,
   "id": "492892e4",
   "metadata": {},
   "outputs": [
    {
     "name": "stderr",
     "output_type": "stream",
     "text": [
      "100%|██████████████████████████████████████████████████████████████████████████████████| 50/50 [01:11<00:00,  1.42s/it]\n"
     ]
    }
   ],
   "source": [
    "\n",
    "data= []\n",
    "\n",
    "\n",
    "for i in tqdm(range(1,51)):                                        # Going through each page one by one\n",
    "\n",
    "    link= \"https://books.toscrape.com/catalogue/page-\" +str(i)+ \".html\"  # Creating link for each page\n",
    "     \n",
    "    res=requests.get(link)                                              # Sending Request to the link\n",
    "    \n",
    "    soup=BeautifulSoup(res.text,'html.parser')                            # Creating a soup for that page\n",
    "    \n",
    "    for sp in soup.find_all('li',class_=\"col-xs-6 col-sm-4 col-md-3 col-lg-3\"):   #to get first book\n",
    "    \n",
    "    \n",
    "        link     =\"https://books.toscrape.com/catalogue/\"+(sp.find_all(\"a\")[-1].get(\"href\")) \n",
    "        #we are using [-1] because there are two anchor tags and we want second one\n",
    "\n",
    "        title    =(sp.find_all(\"a\")[-1].get(\"title\"))\n",
    "\n",
    "        img_link = 'https://books.toscrape.com/' + sp.find('img').get('src')[3:]\n",
    "\n",
    "        Rating   = sp.find(\"p\").get('class')[1]  #.get method helps to retrieve the value of class\n",
    "\n",
    "        price    = sp.find(\"p\",class_=\"price_color\").text[1:]\n",
    "\n",
    "        stock    = sp.find(\"p\",class_=\"instock availability\").text.strip()\n",
    "\n",
    "    \n",
    "    \n",
    "    \n",
    "        data.append([title,link,img_link,Rating,price,stock])\n",
    "    \n",
    "    \n",
    "    \n",
    "    \n",
    "    \n",
    "    "
   ]
  },
  {
   "cell_type": "code",
   "execution_count": 3,
   "id": "57300530",
   "metadata": {},
   "outputs": [
    {
     "data": {
      "text/plain": [
       "1000"
      ]
     },
     "execution_count": 3,
     "metadata": {},
     "output_type": "execute_result"
    }
   ],
   "source": [
    "len(data)  #total of 1000 books fron 50 webpages"
   ]
  },
  {
   "cell_type": "code",
   "execution_count": 4,
   "id": "a1421c3d",
   "metadata": {},
   "outputs": [
    {
     "data": {
      "text/plain": [
       "['A Light in the Attic',\n",
       " 'https://books.toscrape.com/catalogue/a-light-in-the-attic_1000/index.html',\n",
       " 'https://books.toscrape.com/media/cache/2c/da/2cdad67c44b002e7ead0cc35693c0e8b.jpg',\n",
       " 'Three',\n",
       " '£51.77',\n",
       " 'In stock']"
      ]
     },
     "execution_count": 4,
     "metadata": {},
     "output_type": "execute_result"
    }
   ],
   "source": [
    "data[0]"
   ]
  },
  {
   "cell_type": "code",
   "execution_count": 5,
   "id": "cadc95f4",
   "metadata": {},
   "outputs": [],
   "source": [
    "df=pd.DataFrame(data,columns=[\"title\",\"book_link\",'img_link','Rating','Price','stock'])"
   ]
  },
  {
   "cell_type": "code",
   "execution_count": 6,
   "id": "36f5b656",
   "metadata": {},
   "outputs": [
    {
     "data": {
      "text/html": [
       "<div>\n",
       "<style scoped>\n",
       "    .dataframe tbody tr th:only-of-type {\n",
       "        vertical-align: middle;\n",
       "    }\n",
       "\n",
       "    .dataframe tbody tr th {\n",
       "        vertical-align: top;\n",
       "    }\n",
       "\n",
       "    .dataframe thead th {\n",
       "        text-align: right;\n",
       "    }\n",
       "</style>\n",
       "<table border=\"1\" class=\"dataframe\">\n",
       "  <thead>\n",
       "    <tr style=\"text-align: right;\">\n",
       "      <th></th>\n",
       "      <th>title</th>\n",
       "      <th>book_link</th>\n",
       "      <th>img_link</th>\n",
       "      <th>Rating</th>\n",
       "      <th>Price</th>\n",
       "      <th>stock</th>\n",
       "    </tr>\n",
       "  </thead>\n",
       "  <tbody>\n",
       "    <tr>\n",
       "      <th>0</th>\n",
       "      <td>A Light in the Attic</td>\n",
       "      <td>https://books.toscrape.com/catalogue/a-light-i...</td>\n",
       "      <td>https://books.toscrape.com/media/cache/2c/da/2...</td>\n",
       "      <td>Three</td>\n",
       "      <td>£51.77</td>\n",
       "      <td>In stock</td>\n",
       "    </tr>\n",
       "    <tr>\n",
       "      <th>1</th>\n",
       "      <td>Tipping the Velvet</td>\n",
       "      <td>https://books.toscrape.com/catalogue/tipping-t...</td>\n",
       "      <td>https://books.toscrape.com/media/cache/26/0c/2...</td>\n",
       "      <td>One</td>\n",
       "      <td>£53.74</td>\n",
       "      <td>In stock</td>\n",
       "    </tr>\n",
       "    <tr>\n",
       "      <th>2</th>\n",
       "      <td>Soumission</td>\n",
       "      <td>https://books.toscrape.com/catalogue/soumissio...</td>\n",
       "      <td>https://books.toscrape.com/media/cache/3e/ef/3...</td>\n",
       "      <td>One</td>\n",
       "      <td>£50.10</td>\n",
       "      <td>In stock</td>\n",
       "    </tr>\n",
       "    <tr>\n",
       "      <th>3</th>\n",
       "      <td>Sharp Objects</td>\n",
       "      <td>https://books.toscrape.com/catalogue/sharp-obj...</td>\n",
       "      <td>https://books.toscrape.com/media/cache/32/51/3...</td>\n",
       "      <td>Four</td>\n",
       "      <td>£47.82</td>\n",
       "      <td>In stock</td>\n",
       "    </tr>\n",
       "    <tr>\n",
       "      <th>4</th>\n",
       "      <td>Sapiens: A Brief History of Humankind</td>\n",
       "      <td>https://books.toscrape.com/catalogue/sapiens-a...</td>\n",
       "      <td>https://books.toscrape.com/media/cache/be/a5/b...</td>\n",
       "      <td>Five</td>\n",
       "      <td>£54.23</td>\n",
       "      <td>In stock</td>\n",
       "    </tr>\n",
       "  </tbody>\n",
       "</table>\n",
       "</div>"
      ],
      "text/plain": [
       "                                   title  \\\n",
       "0                   A Light in the Attic   \n",
       "1                     Tipping the Velvet   \n",
       "2                             Soumission   \n",
       "3                          Sharp Objects   \n",
       "4  Sapiens: A Brief History of Humankind   \n",
       "\n",
       "                                           book_link  \\\n",
       "0  https://books.toscrape.com/catalogue/a-light-i...   \n",
       "1  https://books.toscrape.com/catalogue/tipping-t...   \n",
       "2  https://books.toscrape.com/catalogue/soumissio...   \n",
       "3  https://books.toscrape.com/catalogue/sharp-obj...   \n",
       "4  https://books.toscrape.com/catalogue/sapiens-a...   \n",
       "\n",
       "                                            img_link Rating   Price     stock  \n",
       "0  https://books.toscrape.com/media/cache/2c/da/2...  Three  £51.77  In stock  \n",
       "1  https://books.toscrape.com/media/cache/26/0c/2...    One  £53.74  In stock  \n",
       "2  https://books.toscrape.com/media/cache/3e/ef/3...    One  £50.10  In stock  \n",
       "3  https://books.toscrape.com/media/cache/32/51/3...   Four  £47.82  In stock  \n",
       "4  https://books.toscrape.com/media/cache/be/a5/b...   Five  £54.23  In stock  "
      ]
     },
     "execution_count": 6,
     "metadata": {},
     "output_type": "execute_result"
    }
   ],
   "source": [
    "df.head()"
   ]
  },
  {
   "cell_type": "code",
   "execution_count": 7,
   "id": "1bf124d6",
   "metadata": {},
   "outputs": [],
   "source": [
    "df.to_csv(\"Book.csv\",index=False)"
   ]
  },
  {
   "cell_type": "code",
   "execution_count": null,
   "id": "03507258",
   "metadata": {},
   "outputs": [],
   "source": []
  }
 ],
 "metadata": {
  "kernelspec": {
   "display_name": "Python 3 (ipykernel)",
   "language": "python",
   "name": "python3"
  },
  "language_info": {
   "codemirror_mode": {
    "name": "ipython",
    "version": 3
   },
   "file_extension": ".py",
   "mimetype": "text/x-python",
   "name": "python",
   "nbconvert_exporter": "python",
   "pygments_lexer": "ipython3",
   "version": "3.11.5"
  }
 },
 "nbformat": 4,
 "nbformat_minor": 5
}

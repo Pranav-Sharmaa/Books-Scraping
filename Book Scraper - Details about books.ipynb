{
 "cells": [
  {
   "cell_type": "code",
   "execution_count": 2,
   "id": "daec73c7",
   "metadata": {},
   "outputs": [],
   "source": [
    "import requests\n",
    "from bs4 import BeautifulSoup\n",
    "\n",
    "link=\"https://books.toscrape.com/?\""
   ]
  },
  {
   "cell_type": "code",
   "execution_count": 4,
   "id": "f13e285c",
   "metadata": {},
   "outputs": [],
   "source": [
    "res=requests.get(link)"
   ]
  },
  {
   "cell_type": "code",
   "execution_count": 7,
   "id": "915e4d22",
   "metadata": {},
   "outputs": [],
   "source": [
    "soup=BeautifulSoup(res.text,'html.parser')"
   ]
  },
  {
   "cell_type": "code",
   "execution_count": 70,
   "id": "7bca73ea",
   "metadata": {},
   "outputs": [],
   "source": [
    "\n",
    "data=[]\n",
    "\n",
    "for sp in soup.find_all('li',class_=\"col-xs-6 col-sm-4 col-md-3 col-lg-3\"): #to get first book\n",
    "    \n",
    "    \n",
    "    link     =\"https://books.toscrape.com/\"+(sp.find_all(\"a\")[-1].get(\"href\")) #we are using [-1] because there are two anchor tags and we want second one\n",
    "    \n",
    "    title    =(sp.find_all(\"a\")[-1].get(\"title\"))\n",
    "    \n",
    "    img_link = 'https://books.toscrape.com/' + sp.find('img').get('src')[3:]\n",
    "    \n",
    "    Rating   = sp.find(\"p\").get('class')[1]  #.get method helps to retrieve the value of class\n",
    "    \n",
    "    price    = sp.find(\"p\",class_=\"price_color\").text[1:]\n",
    "    \n",
    "    stock    = sp.find(\"p\",class_=\"instock availability\").text.strip()\n",
    "    \n",
    "    \n",
    "    \n",
    "    \n",
    "    data.append([link,title,img_link,Rating,price,stock])\n",
    "    \n",
    "\n",
    "    \n",
    "    "
   ]
  },
  {
   "cell_type": "code",
   "execution_count": 71,
   "id": "cfe85407",
   "metadata": {},
   "outputs": [
    {
     "data": {
      "text/plain": [
       "[['https://books.toscrape.com/catalogue/a-light-in-the-attic_1000/index.html',\n",
       "  'A Light in the Attic',\n",
       "  'https://books.toscrape.com/ia/cache/2c/da/2cdad67c44b002e7ead0cc35693c0e8b.jpg',\n",
       "  'Three',\n",
       "  '£51.77',\n",
       "  'In stock'],\n",
       " ['https://books.toscrape.com/catalogue/tipping-the-velvet_999/index.html',\n",
       "  'Tipping the Velvet',\n",
       "  'https://books.toscrape.com/ia/cache/26/0c/260c6ae16bce31c8f8c95daddd9f4a1c.jpg',\n",
       "  'One',\n",
       "  '£53.74',\n",
       "  'In stock'],\n",
       " ['https://books.toscrape.com/catalogue/soumission_998/index.html',\n",
       "  'Soumission',\n",
       "  'https://books.toscrape.com/ia/cache/3e/ef/3eef99c9d9adef34639f510662022830.jpg',\n",
       "  'One',\n",
       "  '£50.10',\n",
       "  'In stock'],\n",
       " ['https://books.toscrape.com/catalogue/sharp-objects_997/index.html',\n",
       "  'Sharp Objects',\n",
       "  'https://books.toscrape.com/ia/cache/32/51/3251cf3a3412f53f339e42cac2134093.jpg',\n",
       "  'Four',\n",
       "  '£47.82',\n",
       "  'In stock'],\n",
       " ['https://books.toscrape.com/catalogue/sapiens-a-brief-history-of-humankind_996/index.html',\n",
       "  'Sapiens: A Brief History of Humankind',\n",
       "  'https://books.toscrape.com/ia/cache/be/a5/bea5697f2534a2f86a3ef27b5a8c12a6.jpg',\n",
       "  'Five',\n",
       "  '£54.23',\n",
       "  'In stock'],\n",
       " ['https://books.toscrape.com/catalogue/the-requiem-red_995/index.html',\n",
       "  'The Requiem Red',\n",
       "  'https://books.toscrape.com/ia/cache/68/33/68339b4c9bc034267e1da611ab3b34f8.jpg',\n",
       "  'One',\n",
       "  '£22.65',\n",
       "  'In stock'],\n",
       " ['https://books.toscrape.com/catalogue/the-dirty-little-secrets-of-getting-your-dream-job_994/index.html',\n",
       "  'The Dirty Little Secrets of Getting Your Dream Job',\n",
       "  'https://books.toscrape.com/ia/cache/92/27/92274a95b7c251fea59a2b8a78275ab4.jpg',\n",
       "  'Four',\n",
       "  '£33.34',\n",
       "  'In stock'],\n",
       " ['https://books.toscrape.com/catalogue/the-coming-woman-a-novel-based-on-the-life-of-the-infamous-feminist-victoria-woodhull_993/index.html',\n",
       "  'The Coming Woman: A Novel Based on the Life of the Infamous Feminist, Victoria Woodhull',\n",
       "  'https://books.toscrape.com/ia/cache/3d/54/3d54940e57e662c4dd1f3ff00c78cc64.jpg',\n",
       "  'Three',\n",
       "  '£17.93',\n",
       "  'In stock'],\n",
       " ['https://books.toscrape.com/catalogue/the-boys-in-the-boat-nine-americans-and-their-epic-quest-for-gold-at-the-1936-berlin-olympics_992/index.html',\n",
       "  'The Boys in the Boat: Nine Americans and Their Epic Quest for Gold at the 1936 Berlin Olympics',\n",
       "  'https://books.toscrape.com/ia/cache/66/88/66883b91f6804b2323c8369331cb7dd1.jpg',\n",
       "  'Four',\n",
       "  '£22.60',\n",
       "  'In stock'],\n",
       " ['https://books.toscrape.com/catalogue/the-black-maria_991/index.html',\n",
       "  'The Black Maria',\n",
       "  'https://books.toscrape.com/ia/cache/58/46/5846057e28022268153beff6d352b06c.jpg',\n",
       "  'One',\n",
       "  '£52.15',\n",
       "  'In stock'],\n",
       " ['https://books.toscrape.com/catalogue/starving-hearts-triangular-trade-trilogy-1_990/index.html',\n",
       "  'Starving Hearts (Triangular Trade Trilogy, #1)',\n",
       "  'https://books.toscrape.com/ia/cache/be/f4/bef44da28c98f905a3ebec0b87be8530.jpg',\n",
       "  'Two',\n",
       "  '£13.99',\n",
       "  'In stock'],\n",
       " ['https://books.toscrape.com/catalogue/shakespeares-sonnets_989/index.html',\n",
       "  \"Shakespeare's Sonnets\",\n",
       "  'https://books.toscrape.com/ia/cache/10/48/1048f63d3b5061cd2f424d20b3f9b666.jpg',\n",
       "  'Four',\n",
       "  '£20.66',\n",
       "  'In stock'],\n",
       " ['https://books.toscrape.com/catalogue/set-me-free_988/index.html',\n",
       "  'Set Me Free',\n",
       "  'https://books.toscrape.com/ia/cache/5b/88/5b88c52633f53cacf162c15f4f823153.jpg',\n",
       "  'Five',\n",
       "  '£17.46',\n",
       "  'In stock'],\n",
       " ['https://books.toscrape.com/catalogue/scott-pilgrims-precious-little-life-scott-pilgrim-1_987/index.html',\n",
       "  \"Scott Pilgrim's Precious Little Life (Scott Pilgrim #1)\",\n",
       "  'https://books.toscrape.com/ia/cache/94/b1/94b1b8b244bce9677c2f29ccc890d4d2.jpg',\n",
       "  'Five',\n",
       "  '£52.29',\n",
       "  'In stock'],\n",
       " ['https://books.toscrape.com/catalogue/rip-it-up-and-start-again_986/index.html',\n",
       "  'Rip it Up and Start Again',\n",
       "  'https://books.toscrape.com/ia/cache/81/c4/81c4a973364e17d01f217e1188253d5e.jpg',\n",
       "  'Five',\n",
       "  '£35.02',\n",
       "  'In stock'],\n",
       " ['https://books.toscrape.com/catalogue/our-band-could-be-your-life-scenes-from-the-american-indie-underground-1981-1991_985/index.html',\n",
       "  'Our Band Could Be Your Life: Scenes from the American Indie Underground, 1981-1991',\n",
       "  'https://books.toscrape.com/ia/cache/54/60/54607fe8945897cdcced0044103b10b6.jpg',\n",
       "  'Three',\n",
       "  '£57.25',\n",
       "  'In stock'],\n",
       " ['https://books.toscrape.com/catalogue/olio_984/index.html',\n",
       "  'Olio',\n",
       "  'https://books.toscrape.com/ia/cache/55/33/553310a7162dfbc2c6d19a84da0df9e1.jpg',\n",
       "  'One',\n",
       "  '£23.88',\n",
       "  'In stock'],\n",
       " ['https://books.toscrape.com/catalogue/mesaerion-the-best-science-fiction-stories-1800-1849_983/index.html',\n",
       "  'Mesaerion: The Best Science Fiction Stories 1800-1849',\n",
       "  'https://books.toscrape.com/ia/cache/09/a3/09a3aef48557576e1a85ba7efea8ecb7.jpg',\n",
       "  'One',\n",
       "  '£37.59',\n",
       "  'In stock'],\n",
       " ['https://books.toscrape.com/catalogue/libertarianism-for-beginners_982/index.html',\n",
       "  'Libertarianism for Beginners',\n",
       "  'https://books.toscrape.com/ia/cache/0b/bc/0bbcd0a6f4bcd81ccb1049a52736406e.jpg',\n",
       "  'Two',\n",
       "  '£51.33',\n",
       "  'In stock'],\n",
       " ['https://books.toscrape.com/catalogue/its-only-the-himalayas_981/index.html',\n",
       "  \"It's Only the Himalayas\",\n",
       "  'https://books.toscrape.com/ia/cache/27/a5/27a53d0bb95bdd88288eaf66c9230d7e.jpg',\n",
       "  'Two',\n",
       "  '£45.17',\n",
       "  'In stock']]"
      ]
     },
     "execution_count": 71,
     "metadata": {},
     "output_type": "execute_result"
    }
   ],
   "source": [
    "data"
   ]
  },
  {
   "cell_type": "code",
   "execution_count": 72,
   "id": "0931d5cb",
   "metadata": {},
   "outputs": [
    {
     "data": {
      "text/plain": [
       "20"
      ]
     },
     "execution_count": 72,
     "metadata": {},
     "output_type": "execute_result"
    }
   ],
   "source": [
    "len(data) "
   ]
  },
  {
   "cell_type": "code",
   "execution_count": null,
   "id": "8629b130",
   "metadata": {},
   "outputs": [],
   "source": []
  }
 ],
 "metadata": {
  "kernelspec": {
   "display_name": "Python 3 (ipykernel)",
   "language": "python",
   "name": "python3"
  },
  "language_info": {
   "codemirror_mode": {
    "name": "ipython",
    "version": 3
   },
   "file_extension": ".py",
   "mimetype": "text/x-python",
   "name": "python",
   "nbconvert_exporter": "python",
   "pygments_lexer": "ipython3",
   "version": "3.11.5"
  }
 },
 "nbformat": 4,
 "nbformat_minor": 5
}
